{
  "nbformat": 4,
  "nbformat_minor": 0,
  "metadata": {
    "colab": {
      "provenance": [],
      "authorship_tag": "ABX9TyMCSDeSStFkiIP57x7UNI79",
      "include_colab_link": true
    },
    "kernelspec": {
      "name": "python3",
      "display_name": "Python 3"
    },
    "language_info": {
      "name": "python"
    }
  },
  "cells": [
    {
      "cell_type": "markdown",
      "metadata": {
        "id": "view-in-github",
        "colab_type": "text"
      },
      "source": [
        "<a href=\"https://colab.research.google.com/github/RaviKishoreReddyP/coconut/blob/main/Coconut_Git.ipynb\" target=\"_parent\"><img src=\"https://colab.research.google.com/assets/colab-badge.svg\" alt=\"Open In Colab\"/></a>"
      ]
    },
    {
      "cell_type": "code",
      "source": [
        "!nvidia-smi #GPU checking"
      ],
      "metadata": {
        "id": "kJDjq-Xeaiyn"
      },
      "execution_count": null,
      "outputs": []
    },
    {
      "cell_type": "code",
      "source": [
        "!git clone https://github.com/sunsmarterjie/yolov12.git  #yolov12 cloning from github"
      ],
      "metadata": {
        "id": "N7lD3Biuajiw"
      },
      "execution_count": null,
      "outputs": []
    },
    {
      "cell_type": "code",
      "source": [
        "%cd yolov12 #creating a folder"
      ],
      "metadata": {
        "id": "AVPe-_xqam_w"
      },
      "execution_count": null,
      "outputs": []
    },
    {
      "cell_type": "code",
      "source": [
        "#installing yolov12 flash libs\n",
        "!wget https://github.com/Dao-AILab/flash-attention/releases/download/v2.7.3/flash_attn-2.7.3+cu11torch2.2cxx11abiFALSE-cp311-cp311-linux_x86_64.whl"
      ],
      "metadata": {
        "id": "490dkLKyaq7U"
      },
      "execution_count": null,
      "outputs": []
    },
    {
      "cell_type": "code",
      "source": [
        "!pip install -r requirements.txt #requirements for yolov12"
      ],
      "metadata": {
        "id": "XuLfOTAKa3c2"
      },
      "execution_count": null,
      "outputs": []
    },
    {
      "cell_type": "code",
      "source": [
        "!pip install -e .#requirement for yolov12"
      ],
      "metadata": {
        "id": "Ul0SpP53a8eQ"
      },
      "execution_count": null,
      "outputs": []
    },
    {
      "cell_type": "code",
      "source": [
        "#note: after downloading dataset, need put file path for test, train and valid in data.yaml file"
      ],
      "metadata": {
        "id": "hvtVLgWJg4QD"
      },
      "execution_count": null,
      "outputs": []
    },
    {
      "cell_type": "code",
      "source": [
        "#group and grayscale coconut data set\n",
        "!pip install roboflow\n",
        "\n",
        "from roboflow import Roboflow\n",
        "rf = Roboflow(api_key=\"4cLFw28gjLyAqMJ0TBbh\")\n",
        "project = rf.workspace(\"ravi-mgvlz\").project(\"coconut-group-dataset\")\n",
        "version = project.version(1)\n",
        "dataset = version.download(\"yolov12\")"
      ],
      "metadata": {
        "id": "5Me3h-lba9Jo"
      },
      "execution_count": null,
      "outputs": []
    },
    {
      "cell_type": "code",
      "source": [
        "#group coconut data set\n",
        "!pip install roboflow\n",
        "\n",
        "from roboflow import Roboflow\n",
        "rf = Roboflow(api_key=\"4cLFw28gjLyAqMJ0TBbh\")\n",
        "project = rf.workspace(\"ravi-mgvlz\").project(\"coconut-group-dataset\")\n",
        "version = project.version(2)\n",
        "dataset = version.download(\"yolov12\")"
      ],
      "metadata": {
        "id": "bTuPro7EbCQl"
      },
      "execution_count": null,
      "outputs": []
    },
    {
      "cell_type": "code",
      "source": [
        "#updated dataset\n",
        "!pip install roboflow\n",
        "\n",
        "from roboflow import Roboflow\n",
        "rf = Roboflow(api_key=\"4cLFw28gjLyAqMJ0TBbh\")\n",
        "project = rf.workspace(\"ravi-mgvlz\").project(\"coconut-custom-dataset\")\n",
        "version = project.version(3)\n",
        "dataset = version.download(\"yolov12\")"
      ],
      "metadata": {
        "id": "7-DhLEgnbFQv"
      },
      "execution_count": null,
      "outputs": []
    },
    {
      "cell_type": "code",
      "source": [
        "#latest dataset before update\n",
        "!pip install roboflow\n",
        "\n",
        "from roboflow import Roboflow\n",
        "rf = Roboflow(api_key=\"4cLFw28gjLyAqMJ0TBbh\")\n",
        "project = rf.workspace(\"ravi-mgvlz\").project(\"coconut-custom-dataset\")\n",
        "version = project.version(1)\n",
        "dataset = version.download(\"yolov12\")"
      ],
      "metadata": {
        "id": "qE9Esu1zbVD6"
      },
      "execution_count": null,
      "outputs": []
    },
    {
      "cell_type": "code",
      "source": [
        "#old dataset\n",
        "!pip install roboflow\n",
        "\n",
        "from roboflow import Roboflow\n",
        "rf = Roboflow(api_key=\"cUdxg05hwuRayWQqviUd\")\n",
        "project = rf.workspace(\"niteesh\").project(\"coconut-genre\")\n",
        "version = project.version(2)\n",
        "dataset = version.download(\"yolov12\")"
      ],
      "metadata": {
        "id": "dhr2-z7jbo1Z"
      },
      "execution_count": null,
      "outputs": []
    },
    {
      "cell_type": "code",
      "source": [
        "#oldest 29 img\n",
        "!pip install roboflow\n",
        "\n",
        "from roboflow import Roboflow\n",
        "rf = Roboflow(api_key=\"4cLFw28gjLyAqMJ0TBbh\")\n",
        "project = rf.workspace(\"ravi-mgvlz\").project(\"coconut-dataset-ysc2b\")\n",
        "version = project.version(1)\n",
        "dataset = version.download(\"yolov12\")"
      ],
      "metadata": {
        "id": "YzWFtveXb2X-"
      },
      "execution_count": null,
      "outputs": []
    },
    {
      "cell_type": "code",
      "source": [
        "#trainig in YOLO model note: need to define path at data=\"file path of data.yaml\"\n",
        "!yolo task=detect mode=train model=yolo12n.pt data=/content/yolov12/coconut-custom-dataset-3/data.yaml epochs=100 imgsz=640"
      ],
      "metadata": {
        "id": "BZfPJiYTb4xE"
      },
      "execution_count": null,
      "outputs": []
    },
    {
      "cell_type": "code",
      "source": [
        "#validation for training results\n",
        "!yolo task=detect mode=val model=/content/yolov12/runs/detect/train/weights/best.pt data={dataset.location}/data.yaml"
      ],
      "metadata": {
        "id": "_pxYw4aib7o9"
      },
      "execution_count": null,
      "outputs": []
    },
    {
      "cell_type": "code",
      "source": [
        "#requirements for openCV\n",
        "!pip install cvzone\n",
        "!apt-get install libarchive-dev\n",
        "!pip install cartopy\n",
        "import cartopy\n",
        "!pip install matplotlib-venn\n",
        "!pip install filterpy==1.4.5"
      ],
      "metadata": {
        "id": "B5OONsp3cT-a"
      },
      "execution_count": null,
      "outputs": []
    },
    {
      "cell_type": "code",
      "source": [
        "#tracker code\n",
        "\n",
        "import math\n",
        "\n",
        "\n",
        "class Tracker:\n",
        "    def __init__(self):\n",
        "        # Store the center positions of the objects\n",
        "        self.center_points = {}\n",
        "        # Keep the count of the IDs\n",
        "        # each time a new object id detected, the count will increase by one\n",
        "        self.id_count = 0\n",
        "\n",
        "\n",
        "    def update(self, objects_rect):\n",
        "        # Objects boxes and ids\n",
        "        objects_bbs_ids = []\n",
        "\n",
        "        # Get center point of new object\n",
        "        for rect in objects_rect:\n",
        "            x, y, w, h = rect\n",
        "            cx = (x + x + w) // 2\n",
        "            cy = (y + y + h) // 2\n",
        "\n",
        "            # Find out if that object was detected already\n",
        "            same_object_detected = False\n",
        "            for id, pt in self.center_points.items():\n",
        "                dist = math.hypot(cx - pt[0], cy - pt[1])\n",
        "\n",
        "                if dist < 35:\n",
        "                    self.center_points[id] = (cx, cy)\n",
        "#                    print(self.center_points)\n",
        "                    objects_bbs_ids.append([x, y, w, h, id])\n",
        "                    same_object_detected = True\n",
        "                    break\n",
        "\n",
        "            # New object is detected we assign the ID to that object\n",
        "            if same_object_detected is False:\n",
        "                self.center_points[self.id_count] = (cx, cy)\n",
        "                objects_bbs_ids.append([x, y, w, h, self.id_count])\n",
        "                self.id_count += 1\n",
        "\n",
        "        # Clean the dictionary by center points to remove IDS not used anymore\n",
        "        new_center_points = {}\n",
        "        for obj_bb_id in objects_bbs_ids:\n",
        "            _, _, _, _, object_id = obj_bb_id\n",
        "            center = self.center_points[object_id]\n",
        "            new_center_points[object_id] = center\n",
        "\n",
        "        # Update dictionary with IDs not used removed\n",
        "        self.center_points = new_center_points.copy()\n",
        "        return objects_bbs_ids"
      ],
      "metadata": {
        "id": "SWJSUHf7d6DZ"
      },
      "execution_count": null,
      "outputs": []
    },
    {
      "cell_type": "code",
      "source": [
        "#importing all the requirements\n",
        "import cv2\n",
        "import pandas as pd\n",
        "from ultralytics import YOLO\n",
        "model=YOLO(\"/content/yolov12/runs/detect/train/weights/best.pt\")\n",
        "from google.colab.patches import cv2_imshow\n",
        "import cv2\n",
        "import pandas as pd"
      ],
      "metadata": {
        "id": "zYBoHWcKeF_Q"
      },
      "execution_count": null,
      "outputs": []
    },
    {
      "cell_type": "code",
      "source": [
        "#Detection and Counting code\n",
        "# Initialize the tracker and other variables\n",
        "tracker = Tracker()\n",
        "counter_ids = set()\n",
        "count = 0\n",
        "line_y = 1100 # line = high value down low value up\n",
        "cap = cv2.VideoCapture('/content/InShot_20250429_174309296.mp4') #input file path\n",
        "\n",
        "# Get video properties to save the output video in the same format as input video\n",
        "frame_width = int(cap.get(cv2.CAP_PROP_FRAME_WIDTH))\n",
        "frame_height = int(cap.get(cv2.CAP_PROP_FRAME_HEIGHT))\n",
        "fps = cap.get(cv2.CAP_PROP_FPS)\n",
        "\n",
        "# Define the codec and create a VideoWriter object to save the output video\n",
        "output_video = cv2.VideoWriter('/content/output_video.mp4', cv2.VideoWriter_fourcc(*'mp4v'), fps, (frame_width, frame_height))\n",
        "\n",
        "class_list = model.names\n",
        "\n",
        "while True:\n",
        "    ret, frame = cap.read()\n",
        "    if not ret:\n",
        "        break\n",
        "\n",
        "\n",
        "    results = model.predict(frame)\n",
        "\n",
        "    a = results[0].boxes.data\n",
        "    '''a = a.detach().cpu().numpy()\n",
        "    px = pd.DataFrame(a).astype(\"float\")'''\n",
        "    #px = pd.DataFrame(a.tolist())\n",
        "    px = pd.DataFrame(a.tolist(), columns=[\"x_min\", \"y_min\", \"x_max\", \"y_max\", \"confidence\", \"class_id\"])\n",
        "\n",
        "    # Extract bounding boxes of class 'coconut'\n",
        "    bbox_list = [[int(row.x_min), int(row.y_min), int(row.x_max), int(row.y_max)]\n",
        "                 for _, row in px.iterrows() if 'coconut' in class_list[int(row.class_id)]]\n",
        "\n",
        "    '''bbox_list = []\n",
        "    for index, row in px.iterrows():\n",
        "        x1, y1, x2, y2, conf, d = map(int, row)\n",
        "        c = class_list[d]\n",
        "        if 'coconut' in c :\n",
        "            bbox_list.append([x1, y1, x2, y2])'''\n",
        "\n",
        "    bbox_id = tracker.update(bbox_list)\n",
        "    for bbox in bbox_id:\n",
        "        x3, y3, x4, y4, id = bbox\n",
        "\n",
        "        cx = int(x3 + x4) // 2\n",
        "        cy = int(y3 + y4) // 2\n",
        "        cv2.circle(frame, (cx, cy), 5, (255, 0, 255), cv2.FILLED)\n",
        "        cv2.putText(frame, str(id), (cx, cy), cv2.FONT_HERSHEY_COMPLEX, 0.5, (0, 255, 0), 1)  # tracker id\n",
        "\n",
        "        cv2.rectangle(frame, (x3, y3), (x4, y4), (255, 0, 0), 2)\n",
        "\n",
        "        line_start = (1, line_y)\n",
        "        line_end = (1200, line_y)\n",
        "        cv2.line(frame, line_start, line_end, (0, 0, 255), 3)\n",
        "\n",
        "        if line_y - 15 <= cy <= line_y + 15 and id not in counter_ids:\n",
        "            counter_ids.add(id)\n",
        "            count += 1\n",
        "\n",
        "        cv2.putText(frame, f'total_count : {count}', (10, 30), cv2.FONT_HERSHEY_SIMPLEX, 0.7, (0, 0, 255), 3)\n",
        "\n",
        "    # Write the frame to the output video\n",
        "    output_video.write(frame)\n",
        "\n",
        "    # Optionally show the frame\n",
        "    #cv2_imshow(frame)\n",
        "    #if cv2.waitKey(1) & 0xFF == ord('q'):\n",
        "      #break\n",
        "\n",
        "# Release resources\n",
        "cap.release()\n",
        "output_video.release()\n",
        "#cv2.destroyAllWindows()\n",
        "print(\"count=\", count)\n"
      ],
      "metadata": {
        "id": "lDi26r_weUBK"
      },
      "execution_count": null,
      "outputs": []
    }
  ]
}